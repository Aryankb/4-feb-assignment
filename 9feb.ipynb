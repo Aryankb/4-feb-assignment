{
 "cells": [
  {
   "cell_type": "code",
   "execution_count": 1,
   "id": "7999b67f-0ed2-4d26-9c44-a020d8aa0189",
   "metadata": {},
   "outputs": [],
   "source": [
    "class vehicle:\n",
    "    def __init__(self,name,avg_s,max_s):\n",
    "        self.name=name\n",
    "        self.avg_s=avg_s\n",
    "        self.max_s=max_s\n"
   ]
  },
  {
   "cell_type": "code",
   "execution_count": 9,
   "id": "31856fc9-1ae8-42ec-bfe8-3cd43ba8b7c6",
   "metadata": {},
   "outputs": [],
   "source": [
    "class car(vehicle):\n",
    "    def seating_cap(self,cap):\n",
    "        return self.name,cap\n",
    "    \n",
    "class openRoof:\n",
    "    def __init__(self,name,openlevel):\n",
    "        self.name=name\n",
    "        self.openlevel=openlevel"
   ]
  },
  {
   "cell_type": "code",
   "execution_count": 5,
   "id": "61ab9c0e-6c13-45a7-aa5c-fcca5db7d3c7",
   "metadata": {},
   "outputs": [],
   "source": [
    "c1=car(\"lamborgini\",70,200)\n"
   ]
  },
  {
   "cell_type": "code",
   "execution_count": 7,
   "id": "ecfba2e7-a8fa-4603-9b3b-c2a2c2ff5618",
   "metadata": {},
   "outputs": [
    {
     "data": {
      "text/plain": [
       "('lamborgini', 2)"
      ]
     },
     "execution_count": 7,
     "metadata": {},
     "output_type": "execute_result"
    }
   ],
   "source": [
    "c1.seating_cap(2)"
   ]
  },
  {
   "cell_type": "code",
   "execution_count": 11,
   "id": "31d99d26-ba5a-47a5-b2ff-300eb920c650",
   "metadata": {},
   "outputs": [],
   "source": [
    "#multiple inheritances\n",
    "class jeep(car,openRoof):\n",
    "    pass"
   ]
  },
  {
   "cell_type": "code",
   "execution_count": 43,
   "id": "021f5a68-6e6c-4814-8291-1bc28aace7a7",
   "metadata": {},
   "outputs": [],
   "source": [
    "#getter and setter\n",
    "class vehicle1:\n",
    "    def __init__(self,name,avg_s,max_s):\n",
    "        self.name=name\n",
    "        self.__avg_s=avg_s\n",
    "        self.__max_s=max_s\n",
    "    @property\n",
    "    def get_speed(self):\n",
    "        print( self.__avg_s)\n",
    "    \n",
    "    @get_speed.setter\n",
    "    def set_speed(self,avg_s):\n",
    "        self.__avg_s=avg_s    \n",
    "        \n",
    "    \n"
   ]
  },
  {
   "cell_type": "code",
   "execution_count": 44,
   "id": "9ad761a5-6287-46d8-85ec-1ad0943f7710",
   "metadata": {},
   "outputs": [],
   "source": [
    "v1=vehicle1(\"bike\",60,100)\n"
   ]
  },
  {
   "cell_type": "code",
   "execution_count": 45,
   "id": "a3a47aeb-c16f-4845-be2e-4d285c5229de",
   "metadata": {},
   "outputs": [
    {
     "name": "stdout",
     "output_type": "stream",
     "text": [
      "60\n"
     ]
    }
   ],
   "source": [
    "v1.get_speed"
   ]
  },
  {
   "cell_type": "code",
   "execution_count": 46,
   "id": "e2d7bd74-db88-4d77-a686-6cd2a547b1b9",
   "metadata": {},
   "outputs": [],
   "source": [
    "v1.set_speed=90"
   ]
  },
  {
   "cell_type": "code",
   "execution_count": 47,
   "id": "617d4e67-ee8a-4767-bfe9-988d9980000a",
   "metadata": {},
   "outputs": [],
   "source": [
    "#method overriding\n",
    "class pwskill:\n",
    "    def __init__(self,name,email):\n",
    "        self.name=name\n",
    "        self.email=email\n",
    "    @classmethod\n",
    "    def details(cls,name,email):\n",
    "        return cls(name,email)"
   ]
  },
  {
   "cell_type": "code",
   "execution_count": 48,
   "id": "70494336-a96f-4de1-a234-f1e876bea77a",
   "metadata": {},
   "outputs": [],
   "source": [
    "pw1=pwskill.details(\"aryan\",\"gmail28\")"
   ]
  },
  {
   "cell_type": "code",
   "execution_count": 49,
   "id": "0a07390b-4aa5-4f28-8719-3dc048cff8ac",
   "metadata": {},
   "outputs": [
    {
     "data": {
      "text/plain": [
       "'aryan'"
      ]
     },
     "execution_count": 49,
     "metadata": {},
     "output_type": "execute_result"
    }
   ],
   "source": [
    "pw1.name"
   ]
  },
  {
   "cell_type": "code",
   "execution_count": null,
   "id": "58a4ed1e-04fe-4e48-a505-c30175f25443",
   "metadata": {},
   "outputs": [],
   "source": []
  }
 ],
 "metadata": {
  "kernelspec": {
   "display_name": "Python 3 (ipykernel)",
   "language": "python",
   "name": "python3"
  },
  "language_info": {
   "codemirror_mode": {
    "name": "ipython",
    "version": 3
   },
   "file_extension": ".py",
   "mimetype": "text/x-python",
   "name": "python",
   "nbconvert_exporter": "python",
   "pygments_lexer": "ipython3",
   "version": "3.10.8"
  }
 },
 "nbformat": 4,
 "nbformat_minor": 5
}
